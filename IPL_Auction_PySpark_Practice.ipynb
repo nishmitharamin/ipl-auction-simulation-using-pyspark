{
 "cells": [
  {
   "cell_type": "code",
   "execution_count": 1,
   "id": "00c122d8",
   "metadata": {},
   "outputs": [
    {
     "name": "stdout",
     "output_type": "stream",
     "text": [
      "Requirement already satisfied: pyspark in c:\\users\\admin\\anaconda3\\lib\\site-packages (3.5.0)\n",
      "Requirement already satisfied: py4j==0.10.9.7 in c:\\users\\admin\\anaconda3\\lib\\site-packages (from pyspark) (0.10.9.7)\n"
     ]
    }
   ],
   "source": [
    "#Install required packages\n",
    "\n",
    "!pip install pyspark"
   ]
  },
  {
   "cell_type": "code",
   "execution_count": 4,
   "id": "4c85c8a7",
   "metadata": {},
   "outputs": [],
   "source": [
    "#import libraries\n",
    "\n",
    "import pandas as pd\n",
    "\n",
    "from pyspark.sql import SparkSession\n",
    "\n",
    "from pyspark.sql import *"
   ]
  },
  {
   "cell_type": "code",
   "execution_count": 5,
   "id": "cda8b8f3",
   "metadata": {},
   "outputs": [],
   "source": [
    "#Start Spark Session\n",
    "\n",
    "spark = SparkSession.builder.getOrCreate()"
   ]
  },
  {
   "cell_type": "code",
   "execution_count": 6,
   "id": "b591079c",
   "metadata": {},
   "outputs": [],
   "source": [
    "df=pd.read_csv(\"ipl_2022_dataset.csv\")"
   ]
  },
  {
   "cell_type": "code",
   "execution_count": 8,
   "id": "5e2e0894",
   "metadata": {},
   "outputs": [],
   "source": [
    "from pyspark.sql.types import StructType, StructField, IntegerType, StringType, FloatType"
   ]
  },
  {
   "cell_type": "code",
   "execution_count": 9,
   "id": "82852eb8",
   "metadata": {},
   "outputs": [],
   "source": [
    "# Define the schema\n",
    "schema = StructType() \\\n",
    "        .add(StructField(\"c0_\", IntegerType(), True)) \\\n",
    "        .add(StructField(\"Player\", StringType(), True)) \\\n",
    "        .add(StructField(\"Base Price\", StringType(), True)) \\\n",
    "        .add(StructField(\"TYPE\", StringType(), True)) \\\n",
    "        .add(StructField(\"COST IN ₹ (CR.)\", FloatType(), True)) \\\n",
    "        .add(StructField(\"Cost IN $ (000)\", FloatType(), True)) \\\n",
    "        .add(StructField(\"2021 Squad\", StringType(), True)) \\\n",
    "        .add(StructField(\"Team\", StringType(), True))"
   ]
  },
  {
   "cell_type": "code",
   "execution_count": 10,
   "id": "318a63f7",
   "metadata": {},
   "outputs": [],
   "source": [
    "df = spark.read.option(\"header\", True).option('inferSchema',True).csv(\"ipl_2022_dataset.csv\")"
   ]
  },
  {
   "cell_type": "code",
   "execution_count": 11,
   "id": "10427585",
   "metadata": {},
   "outputs": [
    {
     "name": "stdout",
     "output_type": "stream",
     "text": [
      "+---+---------------+----------+-----------+---------------+---------------+----------+--------------+\n",
      "|_c0|         Player|Base Price|       TYPE|COST IN ₹ (CR.)|Cost IN $ (000)|2021 Squad|          Team|\n",
      "+---+---------------+----------+-----------+---------------+---------------+----------+--------------+\n",
      "|  0|    Rashid Khan|Draft Pick|     BOWLER|           15.0|         1950.0|       SRH|Gujarat Titans|\n",
      "|  1|  Hardik Pandya|Draft Pick|ALL-ROUNDER|           15.0|         1950.0|        MI|Gujarat Titans|\n",
      "|  2|Lockie Ferguson|      2 Cr|     BOWLER|           10.0|         1300.0|       KKR|Gujarat Titans|\n",
      "|  3|  Rahul Tewatia|   40 Lakh|ALL-ROUNDER|            9.0|         1170.0|        RR|Gujarat Titans|\n",
      "|  4|   Shubman Gill|Draft Pick|     BATTER|            8.0|         1040.0|       KKR|Gujarat Titans|\n",
      "+---+---------------+----------+-----------+---------------+---------------+----------+--------------+\n",
      "only showing top 5 rows\n",
      "\n"
     ]
    }
   ],
   "source": [
    "df.show(5)"
   ]
  },
  {
   "cell_type": "code",
   "execution_count": 12,
   "id": "404f4bbd",
   "metadata": {},
   "outputs": [
    {
     "name": "stdout",
     "output_type": "stream",
     "text": [
      "root\n",
      " |-- _c0: integer (nullable = true)\n",
      " |-- Player: string (nullable = true)\n",
      " |-- Base Price: string (nullable = true)\n",
      " |-- TYPE: string (nullable = true)\n",
      " |-- COST IN ₹ (CR.): double (nullable = true)\n",
      " |-- Cost IN $ (000): double (nullable = true)\n",
      " |-- 2021 Squad: string (nullable = true)\n",
      " |-- Team: string (nullable = true)\n",
      "\n"
     ]
    }
   ],
   "source": [
    "df.printSchema()"
   ]
  },
  {
   "cell_type": "code",
   "execution_count": 13,
   "id": "5f1f9170",
   "metadata": {},
   "outputs": [
    {
     "name": "stdout",
     "output_type": "stream",
     "text": [
      "Rows:  633\n",
      "Columns: 8\n"
     ]
    }
   ],
   "source": [
    "#Total number of rows and columns\n",
    "print('Rows: ', df.count())\n",
    "\n",
    "print('Columns:', len(df.columns))"
   ]
  },
  {
   "cell_type": "code",
   "execution_count": 14,
   "id": "1504251e",
   "metadata": {},
   "outputs": [
    {
     "name": "stdout",
     "output_type": "stream",
     "text": [
      "root\n",
      " |-- _c0: integer (nullable = true)\n",
      " |-- Player: string (nullable = true)\n",
      " |-- Base Price: string (nullable = true)\n",
      " |-- TYPE: string (nullable = true)\n",
      " |-- COST IN ₹ (CR.): double (nullable = true)\n",
      " |-- Cost IN $ (000): double (nullable = true)\n",
      " |-- 2021 Squad: string (nullable = true)\n",
      " |-- Team: string (nullable = true)\n",
      "\n"
     ]
    }
   ],
   "source": [
    "#Data Types\n",
    "\n",
    "df.printSchema()"
   ]
  },
  {
   "cell_type": "code",
   "execution_count": 15,
   "id": "05b5b538",
   "metadata": {},
   "outputs": [
    {
     "data": {
      "text/plain": [
       "[Row(Base Price='20 Lakh'),\n",
       " Row(Base Price='2 Cr'),\n",
       " Row(Base Price='Draft Pick'),\n",
       " Row(Base Price='40 Lakh'),\n",
       " Row(Base Price='30 Lakh'),\n",
       " Row(Base Price='1 Cr'),\n",
       " Row(Base Price='50 Lakh'),\n",
       " Row(Base Price='1.5 Cr'),\n",
       " Row(Base Price='75 Lakh'),\n",
       " Row(Base Price='Retained')]"
      ]
     },
     "execution_count": 15,
     "metadata": {},
     "output_type": "execute_result"
    }
   ],
   "source": [
    "#Unique Values in 'Base Price' Column\n",
    "\n",
    "df.select('Base Price').distinct().collect()"
   ]
  },
  {
   "cell_type": "code",
   "execution_count": 16,
   "id": "7e201ae9",
   "metadata": {},
   "outputs": [
    {
     "name": "stdout",
     "output_type": "stream",
     "text": [
      "+----------+-----+\n",
      "|Base Price|count|\n",
      "+----------+-----+\n",
      "|   20 Lakh|  344|\n",
      "|      2 Cr|   48|\n",
      "|Draft Pick|    6|\n",
      "|   40 Lakh|   16|\n",
      "|   30 Lakh|    9|\n",
      "|      1 Cr|   33|\n",
      "|   50 Lakh|  104|\n",
      "|    1.5 Cr|   20|\n",
      "|   75 Lakh|   26|\n",
      "|  Retained|   27|\n",
      "+----------+-----+\n",
      "\n"
     ]
    }
   ],
   "source": [
    "#Distribution of values inside column 'Base Price'\n",
    "\n",
    "df.groupBy('Base Price').count().show()"
   ]
  },
  {
   "cell_type": "code",
   "execution_count": 17,
   "id": "201d187b",
   "metadata": {},
   "outputs": [
    {
     "name": "stdout",
     "output_type": "stream",
     "text": [
      "+---+---------------+----------+-----------+---------------+---------------+----------+--------------+\n",
      "|_c0|         Player|Base Price|       TYPE|COST IN ₹ (CR.)|Cost IN $ (000)|2021 Squad|          Team|\n",
      "+---+---------------+----------+-----------+---------------+---------------+----------+--------------+\n",
      "|  0|    Rashid Khan|Draft Pick|     BOWLER|           15.0|         1950.0|       SRH|Gujarat Titans|\n",
      "|  1|  Hardik Pandya|Draft Pick|ALL-ROUNDER|           15.0|         1950.0|        MI|Gujarat Titans|\n",
      "|  2|Lockie Ferguson|      2 Cr|     BOWLER|           10.0|         1300.0|       KKR|Gujarat Titans|\n",
      "|  3|  Rahul Tewatia|   40 Lakh|ALL-ROUNDER|            9.0|         1170.0|        RR|Gujarat Titans|\n",
      "|  4|   Shubman Gill|Draft Pick|     BATTER|            8.0|         1040.0|       KKR|Gujarat Titans|\n",
      "+---+---------------+----------+-----------+---------------+---------------+----------+--------------+\n",
      "only showing top 5 rows\n",
      "\n"
     ]
    }
   ],
   "source": [
    "df.show(5)"
   ]
  },
  {
   "cell_type": "code",
   "execution_count": 18,
   "id": "00cb87a3",
   "metadata": {},
   "outputs": [],
   "source": [
    "#Rename Column\n",
    "\n",
    "df2 = df.withColumnRenamed(\"Player\",\"player\")\\\n",
    "      .withColumnRenamed(\"Base Price\",\"base_price\")\\\n",
    "      .withColumnRenamed(\"Type\",\"type\") \\\n",
    "      .withColumnRenamed(\"COST IN ₹ (CR.)\",\"cost_inr\") \\\n",
    "      .withColumnRenamed(\"Cost IN $ (000)\",\"cost_usd\") \\\n",
    "      .withColumnRenamed(\"2021 Squad\",\"2021_team\") \\\n",
    "      .withColumnRenamed(\"Team\",\"2022_team\")"
   ]
  },
  {
   "cell_type": "code",
   "execution_count": 19,
   "id": "43759ee8",
   "metadata": {},
   "outputs": [
    {
     "name": "stdout",
     "output_type": "stream",
     "text": [
      "+---+---------------+----------+-----------+--------+--------+---------+--------------+\n",
      "|_c0|         player|base_price|       type|cost_inr|cost_usd|2021_team|     2022_team|\n",
      "+---+---------------+----------+-----------+--------+--------+---------+--------------+\n",
      "|  0|    Rashid Khan|Draft Pick|     BOWLER|    15.0|  1950.0|      SRH|Gujarat Titans|\n",
      "|  1|  Hardik Pandya|Draft Pick|ALL-ROUNDER|    15.0|  1950.0|       MI|Gujarat Titans|\n",
      "|  2|Lockie Ferguson|      2 Cr|     BOWLER|    10.0|  1300.0|      KKR|Gujarat Titans|\n",
      "|  3|  Rahul Tewatia|   40 Lakh|ALL-ROUNDER|     9.0|  1170.0|       RR|Gujarat Titans|\n",
      "|  4|   Shubman Gill|Draft Pick|     BATTER|     8.0|  1040.0|      KKR|Gujarat Titans|\n",
      "+---+---------------+----------+-----------+--------+--------+---------+--------------+\n",
      "only showing top 5 rows\n",
      "\n"
     ]
    }
   ],
   "source": [
    "df2.show(5)"
   ]
  },
  {
   "cell_type": "code",
   "execution_count": 20,
   "id": "7372486f",
   "metadata": {},
   "outputs": [],
   "source": [
    "#Dropping USD Column\n",
    "\n",
    "df3 = df2.drop('cost_usd')"
   ]
  },
  {
   "cell_type": "code",
   "execution_count": 21,
   "id": "da281315",
   "metadata": {},
   "outputs": [
    {
     "name": "stdout",
     "output_type": "stream",
     "text": [
      "+---+-------------------+----------+------------+--------+---------+--------------+\n",
      "|_c0|             player|base_price|        type|cost_inr|2021_team|     2022_team|\n",
      "+---+-------------------+----------+------------+--------+---------+--------------+\n",
      "|  0|        Rashid Khan|Draft Pick|      BOWLER|    15.0|      SRH|Gujarat Titans|\n",
      "|  1|      Hardik Pandya|Draft Pick| ALL-ROUNDER|    15.0|       MI|Gujarat Titans|\n",
      "|  2|    Lockie Ferguson|      2 Cr|      BOWLER|    10.0|      KKR|Gujarat Titans|\n",
      "|  3|      Rahul Tewatia|   40 Lakh| ALL-ROUNDER|     9.0|       RR|Gujarat Titans|\n",
      "|  4|       Shubman Gill|Draft Pick|      BATTER|     8.0|      KKR|Gujarat Titans|\n",
      "|  5|     Mohammad Shami|      2 Cr|      BOWLER|    6.25|     PBKS|Gujarat Titans|\n",
      "|  6|         Yash Dayal|   20 Lakh|      BOWLER|     3.2|     NULL|Gujarat Titans|\n",
      "|  7|       David Miller|      1 Cr|      BATTER|     3.0|       RR|Gujarat Titans|\n",
      "|  8|     R. Sai Kishore|   20 Lakh|      BOWLER|     3.0|      CSK|Gujarat Titans|\n",
      "|  9|Abhinav Sadarangani|   20 Lakh|      BATTER|     2.6|     NULL|Gujarat Titans|\n",
      "| 10|       Matthew Wade|      2 Cr|WICKETKEEPER|     2.4|     NULL|Gujarat Titans|\n",
      "| 11|     Alzarri Joseph|   75 Lakh|      BOWLER|     2.4|     NULL|Gujarat Titans|\n",
      "| 12|          Jason Roy|      2 Cr|      BATTER|     2.0|      SRH|Gujarat Titans|\n",
      "| 13|    Wriddhiman Saha|      1 Cr|WICKETKEEPER|     1.9|      SRH|Gujarat Titans|\n",
      "| 14|       Jayant Yadav|      1 Cr| ALL-ROUNDER|     1.7|       MI|Gujarat Titans|\n",
      "| 15|      Vijay Shankar|   50 Lakh| ALL-ROUNDER|     1.4|      SRH|Gujarat Titans|\n",
      "| 16|     Dominic Drakes|   75 Lakh| ALL-ROUNDER|     1.1|      CSK|Gujarat Titans|\n",
      "| 17|        Varun Aaron|   50 Lakh|      BOWLER|     0.5|     NULL|Gujarat Titans|\n",
      "| 18|    Gurkeerat Singh|   50 Lakh| ALL-ROUNDER|     0.5|      KKR|Gujarat Titans|\n",
      "| 19|         Noor Ahmad|   30 Lakh|      BOWLER|     0.3|     NULL|Gujarat Titans|\n",
      "+---+-------------------+----------+------------+--------+---------+--------------+\n",
      "only showing top 20 rows\n",
      "\n"
     ]
    }
   ],
   "source": [
    "#Check updated Dataframe\n",
    "\n",
    "df3.show()"
   ]
  },
  {
   "cell_type": "code",
   "execution_count": 22,
   "id": "857962ae",
   "metadata": {},
   "outputs": [
    {
     "name": "stdout",
     "output_type": "stream",
     "text": [
      "+---------------+--------+\n",
      "|         player|cost_inr|\n",
      "+---------------+--------+\n",
      "|   Rohit Sharma|    16.0|\n",
      "|    Virat Kohli|    15.0|\n",
      "|Kane Williamson|    14.0|\n",
      "+---------------+--------+\n",
      "only showing top 3 rows\n",
      "\n"
     ]
    }
   ],
   "source": [
    "df3.select('player','cost_inr').where(df3.type=='BATTER').orderBy('cost_inr', ascending=False).show(3)"
   ]
  },
  {
   "cell_type": "code",
   "execution_count": 23,
   "id": "9b786b4d",
   "metadata": {},
   "outputs": [],
   "source": [
    "df3.createOrReplaceTempView('ipl')"
   ]
  },
  {
   "cell_type": "code",
   "execution_count": 24,
   "id": "e3c85101",
   "metadata": {},
   "outputs": [
    {
     "name": "stdout",
     "output_type": "stream",
     "text": [
      "+---------------+--------+\n",
      "|         player|cost_inr|\n",
      "+---------------+--------+\n",
      "|   Rohit Sharma|    16.0|\n",
      "|    Virat Kohli|    15.0|\n",
      "|Kane Williamson|    14.0|\n",
      "+---------------+--------+\n",
      "\n"
     ]
    }
   ],
   "source": [
    "spark.sql(\"\"\"SELECT player, cost_inr FROM ipl WHERE type = 'BATTER' ORDER BY 2 DESC LIMIT 3\"\"\").show()"
   ]
  },
  {
   "cell_type": "code",
   "execution_count": 25,
   "id": "5fcbd54b",
   "metadata": {},
   "outputs": [
    {
     "name": "stdout",
     "output_type": "stream",
     "text": [
      "+---------------+--------+\n",
      "|         player|cost_inr|\n",
      "+---------------+--------+\n",
      "|    Rashid Khan|    15.0|\n",
      "|  Deepak Chahar|    14.0|\n",
      "| Jasprit Bumrah|    12.0|\n",
      "| Shardul Thakur|   10.75|\n",
      "|Lockie Ferguson|    10.0|\n",
      "+---------------+--------+\n",
      "only showing top 5 rows\n",
      "\n"
     ]
    }
   ],
   "source": [
    "df3.select('player','cost_inr').filter(df3.type=='BOWLER').orderBy('cost_inr',ascending=False).show(5)"
   ]
  },
  {
   "cell_type": "code",
   "execution_count": 26,
   "id": "1b525d15",
   "metadata": {},
   "outputs": [
    {
     "name": "stdout",
     "output_type": "stream",
     "text": [
      "+--------------+--------+\n",
      "|        player|cost_inr|\n",
      "+--------------+--------+\n",
      "|   Rashid Khan|    15.0|\n",
      "| Deepak Chahar|    14.0|\n",
      "|Jasprit Bumrah|    12.0|\n",
      "|Shardul Thakur|   10.75|\n",
      "|    Avesh Khan|    10.0|\n",
      "+--------------+--------+\n",
      "\n"
     ]
    }
   ],
   "source": [
    "spark.sql(\"\"\"SELECT player, cost_inr FROM ipl WHERE type = 'BOWLER' ORDER By 2 DESC LIMIT 5 \"\"\").show()"
   ]
  },
  {
   "cell_type": "code",
   "execution_count": 30,
   "id": "65b7d82d",
   "metadata": {},
   "outputs": [
    {
     "data": {
      "text/plain": [
       "<bound method DataFrame.show of DataFrame[player: string, cost_inr: double]>"
      ]
     },
     "execution_count": 30,
     "metadata": {},
     "output_type": "execute_result"
    }
   ],
   "source": [
    "df3.select('player', 'cost_inr').filter((df3.type=='WICKETKEEPER')&(df3.cost_inr.isNotNull())).orderBy('cost_inr',ascending=True).show"
   ]
  },
  {
   "cell_type": "code",
   "execution_count": 32,
   "id": "ca46ccf0",
   "metadata": {},
   "outputs": [
    {
     "name": "stdout",
     "output_type": "stream",
     "text": [
      "+---------------+--------+\n",
      "|         player|cost_inr|\n",
      "+---------------+--------+\n",
      "|    Dhruv Jurel|     0.2|\n",
      "|  Jitesh Sharma|     0.2|\n",
      "|  N. Jagadeesan|     0.2|\n",
      "|    Aryan Juyal|     0.2|\n",
      "|Luvnith Sisodia|     0.2|\n",
      "+---------------+--------+\n",
      "\n"
     ]
    }
   ],
   "source": [
    "spark.sql(\"\"\" SELECT player, cost_inr FROM ipl WHERE type = 'WICKETKEEPER' AND cost_inr is not null ORDER BY 2 LIMIT 5 \"\"\").show()"
   ]
  },
  {
   "cell_type": "code",
   "execution_count": null,
   "id": "a09f3e18",
   "metadata": {},
   "outputs": [],
   "source": []
  }
 ],
 "metadata": {
  "kernelspec": {
   "display_name": "Python 3 (ipykernel)",
   "language": "python",
   "name": "python3"
  },
  "language_info": {
   "codemirror_mode": {
    "name": "ipython",
    "version": 3
   },
   "file_extension": ".py",
   "mimetype": "text/x-python",
   "name": "python",
   "nbconvert_exporter": "python",
   "pygments_lexer": "ipython3",
   "version": "3.9.13"
  }
 },
 "nbformat": 4,
 "nbformat_minor": 5
}
